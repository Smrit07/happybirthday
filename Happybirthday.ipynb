{
 "cells": [
  {
   "cell_type": "code",
   "execution_count": 1,
   "metadata": {},
   "outputs": [
    {
     "name": "stdout",
     "output_type": "stream",
     "text": [
      "****************************************\n",
      "*                                      *\n",
      "*      H A P P Y   B I R T H D A Y !   *\n",
      "*                                      *\n",
      "****************************************\n",
      "\n",
      "Let's start the countdown to your special day!\n",
      "Counting down: 1 seconds left....\n",
      "Happy Birthday!!! 🎉🎂🥳\n",
      "\u001b[93m🎉\u001b[93m🎉\u001b[96m🎉\u001b[95m \u001b[92mW\u001b[92mi\u001b[94ms\u001b[92mh\u001b[94mi\u001b[96mn\u001b[96mg\u001b[95m \u001b[93my\u001b[93mo\u001b[96mu\u001b[92m \u001b[96ma\u001b[91m \u001b[92md\u001b[93ma\u001b[92my\u001b[96m \u001b[91mf\u001b[91mu\u001b[92ml\u001b[93ml\u001b[91m \u001b[94mo\u001b[94mf\u001b[92m \u001b[93mf\u001b[91mu\u001b[93mn\u001b[92m \u001b[91ma\u001b[93mn\u001b[93md\u001b[94m \u001b[94mh\u001b[93ma\u001b[95mp\u001b[91mp\u001b[93mi\u001b[91mn\u001b[93me\u001b[91ms\u001b[91ms\u001b[91m!\u001b[92m \u001b[93m🎉\u001b[96m🎉\u001b[91m🎉\n",
      "\u001b[0m\n"
     ]
    }
   ],
   "source": [
    "import time\n",
    "import random\n",
    "import sys\n",
    "\n",
    "def print_birthday_banner():\n",
    "    birthday_banner = [\n",
    "        \"****************************************\",\n",
    "        \"*                                      *\",\n",
    "        \"*      H A P P Y   B I R T H D A Y !   *\",\n",
    "        \"*                                      *\",\n",
    "        \"****************************************\"\n",
    "    ]\n",
    "    for line in birthday_banner:\n",
    "        print(line)\n",
    "        time.sleep(0.1)\n",
    "\n",
    "def countdown_timer():\n",
    "    print(\"\\nLet's start the countdown to your special day!\")\n",
    "    for i in range(10, 0, -1):\n",
    "        sys.stdout.write(f\"\\rCounting down: {i} seconds left...\")\n",
    "        sys.stdout.flush()\n",
    "        time.sleep(1)\n",
    "    print(\"\\nHappy Birthday!!! 🎉🎂🥳\")\n",
    "\n",
    "def colorful_message():\n",
    "    colors = ['\\033[91m', '\\033[92m', '\\033[93m', '\\033[94m', '\\033[95m', '\\033[96m']\n",
    "    message = \"🎉🎉🎉 Wishing you a day full of fun and happiness! 🎉🎉🎉\"\n",
    "    \n",
    "    for char in message:\n",
    "        print(random.choice(colors) + char, end='', flush=True)\n",
    "        time.sleep(0.1)\n",
    "    \n",
    "    print(\"\\n\\033[0m\")  # Reset color\n",
    "\n",
    "# Main function to execute\n",
    "def main():\n",
    "    print_birthday_banner()\n",
    "    countdown_timer()\n",
    "    colorful_message()\n",
    "\n",
    "# Run the program\n",
    "if __name__ == \"__main__\":\n",
    "    main()\n"
   ]
  },
  {
   "cell_type": "code",
   "execution_count": null,
   "metadata": {},
   "outputs": [],
   "source": []
  }
 ],
 "metadata": {
  "kernelspec": {
   "display_name": "Python 3",
   "language": "python",
   "name": "python3"
  },
  "language_info": {
   "codemirror_mode": {
    "name": "ipython",
    "version": 3
   },
   "file_extension": ".py",
   "mimetype": "text/x-python",
   "name": "python",
   "nbconvert_exporter": "python",
   "pygments_lexer": "ipython3",
   "version": "3.13.1"
  }
 },
 "nbformat": 4,
 "nbformat_minor": 2
}
